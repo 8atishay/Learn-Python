{
 "cells": [
  {
   "cell_type": "markdown",
   "metadata": {},
   "source": [
    "# SQLite"
   ]
  },
  {
   "cell_type": "code",
   "execution_count": 11,
   "metadata": {},
   "outputs": [],
   "source": [
    "import sqlite3\n",
    "connection=sqlite3.connect(\"company.db\")\n",
    "\n",
    "cursor =connection.cursor()\n",
    "\n",
    "sql_command=\"\"\"\n",
    "CREATE TABLE employee(\n",
    "staff_number INTEGER PRIMARY KEY,\n",
    "fname VARCHAR(20),\n",
    "lname VARCHAR(30),\n",
    "gender CHAR(1),\n",
    "joining DATE,\n",
    "birth_date DATE);\"\"\"\n",
    "\n",
    "#command between \"\"\" \"\"\" is structured query command\n",
    "# it is stored as string\n",
    "#cursor.execute(\"\"\"DROP TABLE employee;\"\"\") #to delete table\n",
    "\n",
    "cursor.execute(sql_command)\n",
    "\n",
    "sql_command=\"\"\"INSERT INTO employee (staff_number,fname,lname,gender,birth_date)\n",
    "VALUES(NULL,\"Frank\", \"Schiller\",\"m\",\"1955-08-17\");\"\"\"\n",
    "cursor.execute(sql_command)\n",
    "\n",
    "sql_command=\"\"\"INSERT INTO employee (staff_number,fname,lname,gender,birth_date)\n",
    "VALUES(NULL,\"William\", \"Shakespeare\",\"m\",\"1961-10-25\");\"\"\"\n",
    "cursor.execute(sql_command)\n",
    "\n",
    "connection.commit()  #saves the data\n",
    "\n",
    "connection.close() "
   ]
  },
  {
   "cell_type": "code",
   "execution_count": 17,
   "metadata": {},
   "outputs": [],
   "source": [
    "import sqlite3\n",
    "connection=sqlite3.connect(\"company.db\")\n",
    "\n",
    "cursor=connection.cursor()\n",
    "\n",
    "staff_data=[(\"William\",\"Shakespeare\",\"m\",\"1961-10-25\"),\n",
    "       (\"William\",\"Shakespeare\",\"m\",\"1961-10-25\"),\n",
    "       (\"William\",\"Shakespeare\",\"m\",\"1961-10-25\"),]\n",
    "\n",
    "for p in staff_data:\n",
    "    format_str=\"\"\"INSERT INTO employee (staff_number,fname,lname,gender,birth_date)\n",
    "    VALUES(NULL,\"{first}\", \"{last}\",\"{gender}\",\"{birthdate}\");\"\"\"\n",
    "    \n",
    "    sql_command=format_str.format(first=p[0],last=p[1],gender=p[2],birthdate=p[3])\n",
    "    cursor.execute(sql_command)\n",
    "    \n",
    "connection.commit()  #saves the data\n",
    "\n",
    "connection.close() "
   ]
  },
  {
   "cell_type": "markdown",
   "metadata": {},
   "source": [
    "#### to see"
   ]
  },
  {
   "cell_type": "code",
   "execution_count": 18,
   "metadata": {},
   "outputs": [
    {
     "name": "stdout",
     "output_type": "stream",
     "text": [
      "fetchall:\n",
      "(1, 'Frank', 'Schiller', 'm', None, '1955-08-17')\n",
      "(2, 'William', 'Shakespeare', 'm', None, '1961-10-25')\n",
      "(3, 'William', 'Shakespeare', 'm', None, '1961-10-25')\n",
      "(4, 'William', 'Shakespeare', 'm', None, '1961-10-25')\n",
      "(5, 'William', 'Shakespeare', 'm', None, '1961-10-25')\n",
      "\n",
      "fectch one:\n",
      "(1, 'Frank', 'Schiller', 'm', None, '1955-08-17')\n"
     ]
    }
   ],
   "source": [
    "import sqlite3\n",
    "connection=sqlite3.connect(\"company.db\")\n",
    "\n",
    "cursor=connection.cursor()\n",
    "\n",
    "cursor.execute(\"SELECT * FROM employee\")\n",
    "print(\"fetchall:\")\n",
    "result=cursor.fetchall()\n",
    "for r in result:\n",
    "    print(r)\n",
    "cursor.execute(\"SELECT * FROM employee\")\n",
    "print(\"\\nfectch one:\")\n",
    "res=cursor.fetchone()\n",
    "print(res)"
   ]
  },
  {
   "cell_type": "code",
   "execution_count": null,
   "metadata": {},
   "outputs": [],
   "source": []
  }
 ],
 "metadata": {
  "kernelspec": {
   "display_name": "Python 3",
   "language": "python",
   "name": "python3"
  },
  "language_info": {
   "codemirror_mode": {
    "name": "ipython",
    "version": 3
   },
   "file_extension": ".py",
   "mimetype": "text/x-python",
   "name": "python",
   "nbconvert_exporter": "python",
   "pygments_lexer": "ipython3",
   "version": "3.7.6"
  }
 },
 "nbformat": 4,
 "nbformat_minor": 4
}
