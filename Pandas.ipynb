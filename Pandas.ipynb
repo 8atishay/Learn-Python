{
 "cells": [
  {
   "cell_type": "code",
   "execution_count": 1,
   "metadata": {},
   "outputs": [],
   "source": [
    "import pandas as pd"
   ]
  },
  {
   "cell_type": "code",
   "execution_count": 2,
   "metadata": {},
   "outputs": [
    {
     "data": {
      "text/plain": [
       "'1.0.1'"
      ]
     },
     "execution_count": 2,
     "metadata": {},
     "output_type": "execute_result"
    }
   ],
   "source": [
    "pd.__version__"
   ]
  },
  {
   "cell_type": "markdown",
   "metadata": {},
   "source": [
    " "
   ]
  },
  {
   "cell_type": "markdown",
   "metadata": {},
   "source": [
    "Data=pd.read_csv(r'titanic.csv)\n",
    "\n",
    "Data.head(10)\n",
    "\n",
    "Data.tail(10)\n",
    "\n",
    "Data.shape"
   ]
  },
  {
   "cell_type": "markdown",
   "metadata": {},
   "source": [
    " "
   ]
  },
  {
   "cell_type": "markdown",
   "metadata": {},
   "source": [
    "x=Data.copy()\n",
    "\n",
    "x.coloumns=['a','b',etc]\n",
    "\n",
    "x.drop('a',axis=1,inplace=True)\n",
    "\n",
    "x.c or x['c'] >> gives coloumn c\n",
    "\n",
    "x.loc[2:5] >> returns data from second row to 5th row\n",
    "\n",
    "x. iloc[2:3,2:4] >> gives specific data"
   ]
  },
  {
   "cell_type": "markdown",
   "metadata": {},
   "source": [
    " "
   ]
  },
  {
   "cell_type": "markdown",
   "metadata": {},
   "source": [
    "###### For Nan value\n",
    "x.f.fillnan(x.f.mean(),inplace=True) >> this command fills Nan value of coloumn f with the mean of the coloumn"
   ]
  },
  {
   "cell_type": "markdown",
   "metadata": {},
   "source": [
    "###### For conditions\n",
    "print(x[x.f>50]) >> returns the whole matrix for which the entry in coloumn f > 50\n",
    "\n",
    "print(x[x.f>50].describe()) >> gives the details of the coloumn f having entry > 50 such as count, mean, SD etc."
   ]
  },
  {
   "cell_type": "markdown",
   "metadata": {},
   "source": [
    " "
   ]
  },
  {
   "cell_type": "markdown",
   "metadata": {},
   "source": [
    "###### For changing values according to condition\n",
    "def change(text):\n",
    "    if text == 'Child':\n",
    "        return 10\n",
    "    elif text =='Adult':\n",
    "        return 25\n",
    "    else:\n",
    "        return 50\n",
    "        \n",
    "x['d'] = x.d.apply(change)\n",
    "\n",
    "This code changes values as text in coloumn d to the integer according to the change condition"
   ]
  },
  {
   "cell_type": "markdown",
   "metadata": {},
   "source": [
    "###### Inserting new coloumns\n",
    "x['New coloumn']='default value' >> creates a new coloumn with value \"default value\"\n",
    "\n",
    "x.insert(1,'2nd coloumns','def') >> creates a new coloumn at index 2 with values \"def\""
   ]
  },
  {
   "cell_type": "markdown",
   "metadata": {},
   "source": [
    " "
   ]
  },
  {
   "cell_type": "markdown",
   "metadata": {},
   "source": [
    "#### Series Data"
   ]
  },
  {
   "cell_type": "code",
   "execution_count": 3,
   "metadata": {},
   "outputs": [
    {
     "data": {
      "text/plain": [
       "0    a\n",
       "1    b\n",
       "2    a\n",
       "3    c\n",
       "4    d\n",
       "dtype: object"
      ]
     },
     "execution_count": 3,
     "metadata": {},
     "output_type": "execute_result"
    }
   ],
   "source": [
    "s=pd.Series(list('abacd'))\n",
    "s"
   ]
  },
  {
   "cell_type": "code",
   "execution_count": 4,
   "metadata": {},
   "outputs": [
    {
     "name": "stdout",
     "output_type": "stream",
     "text": [
      "   a  b  c  d\n",
      "0  1  0  0  0\n",
      "1  0  1  0  0\n",
      "2  1  0  0  0\n",
      "3  0  0  1  0\n",
      "4  0  0  0  1\n"
     ]
    }
   ],
   "source": [
    "dummy_data=pd.get_dummies(s)\n",
    "print(dummy_data)"
   ]
  },
  {
   "cell_type": "code",
   "execution_count": null,
   "metadata": {},
   "outputs": [],
   "source": []
  }
 ],
 "metadata": {
  "kernelspec": {
   "display_name": "Python 3",
   "language": "python",
   "name": "python3"
  },
  "language_info": {
   "codemirror_mode": {
    "name": "ipython",
    "version": 3
   },
   "file_extension": ".py",
   "mimetype": "text/x-python",
   "name": "python",
   "nbconvert_exporter": "python",
   "pygments_lexer": "ipython3",
   "version": "3.7.6"
  }
 },
 "nbformat": 4,
 "nbformat_minor": 4
}
