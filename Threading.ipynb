{
 "cells": [
  {
   "cell_type": "markdown",
   "metadata": {},
   "source": [
    "### Threading by defining function"
   ]
  },
  {
   "cell_type": "code",
   "execution_count": 1,
   "metadata": {},
   "outputs": [
    {
     "name": "stdout",
     "output_type": "stream",
     "text": [
      "0\n",
      "1\n",
      "8\n",
      "27\n",
      "64\n",
      "125\n",
      "216\n",
      "343\n",
      "512\n",
      "729\n"
     ]
    }
   ],
   "source": [
    "from threading import Thread\n",
    "from time import sleep\n",
    "\n",
    "def myfunction():\n",
    "    for x in range(10):\n",
    "        print(x**3)\n",
    "        sleep(1)\n",
    "        \n",
    "t1=Thread(target=myfunction)\n",
    "t1.start()\n",
    "t1.join()"
   ]
  },
  {
   "cell_type": "code",
   "execution_count": 2,
   "metadata": {},
   "outputs": [
    {
     "name": "stdout",
     "output_type": "stream",
     "text": [
      "100\n",
      "0\n",
      "121\n",
      "1\n",
      "144\n",
      "4\n",
      "169\n",
      "9\n",
      "196\n",
      "16\n",
      "225\n",
      "25\n",
      "256\n",
      "36\n",
      "289\n",
      "49\n",
      "324\n",
      "64\n",
      "361\n",
      "81\n"
     ]
    }
   ],
   "source": [
    "def myfunction():\n",
    "    for x in range(10):\n",
    "        print(x**2)\n",
    "        sleep(1)\n",
    "def myfunction2():\n",
    "    for x in range(10,20):\n",
    "        print(x**2)\n",
    "        sleep(1)\n",
    "        \n",
    "t1=Thread(target=myfunction)\n",
    "t2=Thread(target=myfunction2)\n",
    "t2.start()\n",
    "\n",
    "t1.start()\n",
    "t1.join()\n",
    "t2.join()"
   ]
  },
  {
   "cell_type": "markdown",
   "metadata": {},
   "source": [
    "### Threading by class"
   ]
  },
  {
   "cell_type": "code",
   "execution_count": 3,
   "metadata": {},
   "outputs": [
    {
     "name": "stdout",
     "output_type": "stream",
     "text": [
      "running\n",
      "running\n",
      "running\n",
      "running\n",
      "running\n",
      "running\n",
      "running\n",
      "running\n",
      "running\n",
      "running\n"
     ]
    }
   ],
   "source": [
    "import threading\n",
    "\n",
    "class MyThread(threading.Thread):\n",
    "    def __init__(self):\n",
    "        super(MyThread,self).__init__()\n",
    "        \n",
    "    def run(self):\n",
    "        print(\"running\")\n",
    "        \n",
    "thread_list=[]\n",
    "for i in range(10):\n",
    "    thread =MyThread()\n",
    "    thread_list.append(thread)\n",
    "    thread.start()"
   ]
  },
  {
   "cell_type": "markdown",
   "metadata": {},
   "source": [
    "### Creating a thread without using a class"
   ]
  },
  {
   "cell_type": "code",
   "execution_count": 4,
   "metadata": {},
   "outputs": [
    {
     "name": "stdout",
     "output_type": "stream",
     "text": [
      "Hello there\n",
      "Hello there\n",
      "Hello there\n",
      "Hello there\n",
      "Hello there\n"
     ]
    }
   ],
   "source": [
    "from threading import *\n",
    "\n",
    "def display():\n",
    "    print('Hello there')\n",
    "    \n",
    "for i in range(5):\n",
    "    t=Thread(target=display)\n",
    "    t.start()\n",
    "    t.join()"
   ]
  },
  {
   "cell_type": "code",
   "execution_count": 5,
   "metadata": {},
   "outputs": [
    {
     "name": "stdout",
     "output_type": "stream",
     "text": [
      "0\n",
      "1\n",
      "4\n",
      "9\n",
      "16\n",
      "25\n",
      "36\n",
      "49\n",
      "64\n",
      "81\n"
     ]
    }
   ],
   "source": [
    "def display(msg):\n",
    "    print(msg**2)\n",
    "    \n",
    "for i in range(10):\n",
    "    t=Thread(target=display,args=(i,))\n",
    "    t.start()"
   ]
  },
  {
   "cell_type": "code",
   "execution_count": 6,
   "metadata": {},
   "outputs": [
    {
     "name": "stdout",
     "output_type": "stream",
     "text": [
      "Hello 8\n"
     ]
    }
   ],
   "source": [
    "class MyThread(Thread):\n",
    "    # constructor that calls Thread class constructor\n",
    "    def __init__(self,str,n):\n",
    "        Thread.__init__(self)\n",
    "        self.str=str\n",
    "        self.n=n\n",
    "    #override the run() method of Thread class\n",
    "    \n",
    "    def run(self):\n",
    "        print(self.str,self.n)\n",
    "#creat an instance of MyTHread class and pass the string\n",
    "\n",
    "t1=MyThread('Hello',8)\n",
    "t1.start()\n",
    "t1.join()"
   ]
  },
  {
   "cell_type": "code",
   "execution_count": 7,
   "metadata": {},
   "outputs": [
    {
     "name": "stdout",
     "output_type": "stream",
     "text": [
      "Hello\n",
      "The Product= 100\n",
      "Hello\n",
      "The Product= 100\n"
     ]
    }
   ],
   "source": [
    "class MyThread:\n",
    "    def __init__(self,str):\n",
    "        self.str=str\n",
    "    def display(self,x,y):\n",
    "        print(self.str)\n",
    "        print('The Product=',x*y)\n",
    "# create an instance to our class and store 'Hello' string\n",
    "\n",
    "obj =MyThread('Hello')\n",
    "#create a thread to run display method of obj\n",
    "\n",
    "t1=Thread(target=obj.display, args=(50,2))\n",
    "t1.start()\n",
    "#run the thread\n",
    "#it can also be written as \n",
    "\n",
    "t1=Thread(target=obj.display(50,2))\n",
    "t1.start()\n"
   ]
  },
  {
   "cell_type": "markdown",
   "metadata": {},
   "source": [
    "### Thread Class Methods\n",
    "t.start(): starts thread\n",
    "\n",
    "t.join([timeout]): wait till thread terminate of timeout occours\n",
    "\n",
    "t.is_alive()\n",
    "\n",
    "t.setName(name)\n",
    "\n",
    "t.getName()\n",
    "\n",
    "t.name: same as t.Daemon\n",
    "\n",
    "t.setDaemon(flag): makes a daemon thread if flag is true<br>\n",
    "Daemon flags are functions keeps executing the thread all the time\n",
    "\n",
    "t.isDaemon()\n",
    "\n",
    "t.daemon: Used to set True or False for Daemon flag, Used as t.daemon=True"
   ]
  },
  {
   "cell_type": "markdown",
   "metadata": {},
   "source": [
    "### Single tasking using Thread"
   ]
  },
  {
   "cell_type": "code",
   "execution_count": 8,
   "metadata": {},
   "outputs": [
    {
     "name": "stdout",
     "output_type": "stream",
     "text": [
      "remainder after dividing by 3 1\n",
      "remainder after dividing by 3 2\n",
      "remainder after dividing by 3 0\n",
      "remainder after dividing by 3 1\n",
      "remainder after dividing by 3 2\n",
      "remainder after dividing by 3 0\n",
      "remainder after dividing by 3 1\n",
      "remainder after dividing by 3 2\n",
      "remainder after dividing by 2 1\n",
      "remainder after dividing by 2 0\n",
      "remainder after dividing by 2 1\n",
      "remainder after dividing by 2 0\n",
      "remainder after dividing by 2 1\n",
      "remainder after dividing by 2 0\n",
      "remainder after dividing by 2 1\n",
      "remainder after dividing by 2 0\n",
      "16.03366708755493\n"
     ]
    }
   ],
   "source": [
    "#exaple 1 without thread\n",
    "import time\n",
    "    \n",
    "def sqr(n):\n",
    "    for x in n:\n",
    "        print('remainder after dividing by 2',x%2)\n",
    "        time.sleep(1)\n",
    "        \n",
    "def cube(n):\n",
    "    for x in n:\n",
    "        print('remainder after dividing by 3',x%3)\n",
    "        time.sleep(1)\n",
    "\n",
    "n=[1,2,3,4,5,6,7,8]\n",
    "start=time.time()\n",
    "cube(n)\n",
    "sqr(n)\n",
    "end=time.time()\n",
    "print(end-start)"
   ]
  },
  {
   "cell_type": "code",
   "execution_count": 9,
   "metadata": {},
   "outputs": [
    {
     "name": "stdout",
     "output_type": "stream",
     "text": [
      "1remainder after dividing by 2 1\n",
      "2remainder after dividing by 3 1\n",
      "2remainder after dividing by 31remainder after dividing by 2 0\n",
      " 2\n",
      "2remainder after dividing by 31remainder after dividing by 2 0\n",
      " 1\n",
      "1remainder after dividing by 22remainder after dividing by 3 1\n",
      " 0\n",
      "1remainder after dividing by 22remainder after dividing by 3 2 1\n",
      "\n",
      "2remainder after dividing by 31remainder after dividing by 2 0\n",
      " 0\n",
      "2remainder after dividing by 31remainder after dividing by 2 1\n",
      " 1\n",
      "2remainder after dividing by 31remainder after dividing by 2 0\n",
      " 2\n",
      "8.03517746925354\n"
     ]
    }
   ],
   "source": [
    "#exaple 2 with thread\n",
    "from threading import *\n",
    "import time\n",
    "    \n",
    "def sqr(n):\n",
    "    for x in n:\n",
    "        print('1remainder after dividing by 2',x%2)\n",
    "        time.sleep(1)\n",
    "        \n",
    "def cube(n):\n",
    "    for x in n:\n",
    "        print('2remainder after dividing by 3',x%3)\n",
    "        time.sleep(1)\n",
    "\n",
    "n=[1,2,3,4,5,6,7,8]\n",
    "start=time.time()\n",
    "t1=Thread(target=sqr, args=(n,))\n",
    "t2=Thread(target=cube, args=(n,))\n",
    "t1.start()\n",
    "t2.start()\n",
    "t2.join()\n",
    "t1.join()\n",
    "end=time.time()\n",
    "print(end-start)"
   ]
  },
  {
   "cell_type": "markdown",
   "metadata": {},
   "source": [
    "in example 2 we see that when the tread t1 is sleeping it switches to t2 and vice versa so it takes less time and runs the program when one of the thread is sleeping while in example 1 we see that when one part of program is sleeoing whole program is sleeping"
   ]
  },
  {
   "cell_type": "code",
   "execution_count": null,
   "metadata": {},
   "outputs": [],
   "source": []
  }
 ],
 "metadata": {
  "kernelspec": {
   "display_name": "Python 3",
   "language": "python",
   "name": "python3"
  },
  "language_info": {
   "codemirror_mode": {
    "name": "ipython",
    "version": 3
   },
   "file_extension": ".py",
   "mimetype": "text/x-python",
   "name": "python",
   "nbconvert_exporter": "python",
   "pygments_lexer": "ipython3",
   "version": "3.7.6"
  }
 },
 "nbformat": 4,
 "nbformat_minor": 4
}
