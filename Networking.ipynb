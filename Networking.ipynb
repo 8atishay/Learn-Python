{
 "cells": [
  {
   "cell_type": "markdown",
   "metadata": {},
   "source": [
    "Socket Module: A logicacl connection bw a client and a server"
   ]
  },
  {
   "cell_type": "markdown",
   "metadata": {},
   "source": [
    "### Get IP Address"
   ]
  },
  {
   "cell_type": "code",
   "execution_count": 1,
   "metadata": {},
   "outputs": [
    {
     "name": "stdout",
     "output_type": "stream",
     "text": [
      "IP Address= 172.217.166.46\n"
     ]
    }
   ],
   "source": [
    "import socket\n",
    "\n",
    "host='www.youtube.com'\n",
    "\n",
    "try:\n",
    "    addr=socket.gethostbyname(host)\n",
    "    print('IP Address=',addr)\n",
    "    \n",
    "except:\n",
    "    print('The website does not exist')"
   ]
  },
  {
   "cell_type": "markdown",
   "metadata": {},
   "source": [
    "### URL: Accessing different parts of URL"
   ]
  },
  {
   "cell_type": "code",
   "execution_count": 2,
   "metadata": {},
   "outputs": [
    {
     "name": "stdout",
     "output_type": "stream",
     "text": [
      "ParseResult(scheme='http', netloc='www.iitk.ac.in', path='/doaa/courses-of-study', params='', query='', fragment='')\n",
      "sceme= http\n",
      "net location= www.iitk.ac.in\n",
      "Parameters= \n",
      "Port no.= None\n",
      "Total URL= <bound method ParseResult.geturl of ParseResult(scheme='http', netloc='www.iitk.ac.in', path='/doaa/courses-of-study', params='', query='', fragment='')>\n"
     ]
    }
   ],
   "source": [
    "import urllib.parse\n",
    "\n",
    "url='http://www.iitk.ac.in/doaa/courses-of-study'\n",
    "\n",
    "tpl=urllib.parse.urlparse(url)\n",
    "\n",
    "print(tpl)\n",
    "\n",
    "print(\"sceme=\",tpl.scheme)\n",
    "print(\"net location=\",tpl.netloc)\n",
    "print(\"Parameters=\",tpl.params)\n",
    "print(\"Port no.=\",tpl.port)\n",
    "print(\"Total URL=\",tpl.geturl)"
   ]
  },
  {
   "cell_type": "markdown",
   "metadata": {},
   "source": [
    "### Downloading a webpage from net"
   ]
  },
  {
   "cell_type": "markdown",
   "metadata": {},
   "source": [
    "copying the webpage: getting url and reading it into variable content then putting it into a html file "
   ]
  },
  {
   "cell_type": "code",
   "execution_count": 3,
   "metadata": {},
   "outputs": [],
   "source": [
    "import urllib.request\n",
    "\n",
    "try:\n",
    "    file=urllib.request.urlopen(\"http://www.iitk.ac.in/\")\n",
    "    content=file.read()\n",
    "    \n",
    "except urllib.error.HTTPerror:\n",
    "    print(\"webpage does not exist\")\n",
    "    exit()\n",
    "\n",
    "f=open('webpage.html','wb')\n",
    "f.write(content)\n",
    "f.close()\n",
    "    "
   ]
  },
  {
   "cell_type": "markdown",
   "metadata": {},
   "source": [
    "### Downloading an image from net"
   ]
  },
  {
   "cell_type": "code",
   "execution_count": 4,
   "metadata": {},
   "outputs": [],
   "source": [
    "import urllib.request\n",
    "\n",
    "url='http://www.iitk.ac.in/new/images/cards/counselling-service.jpg'\n",
    "\n",
    "download=urllib.request.urlretrieve(url,'immage.png')"
   ]
  },
  {
   "cell_type": "markdown",
   "metadata": {},
   "source": [
    "### TCP/IP to create server which sends message to client\n",
    "TCP: Transmission Control Protocol<br>\n",
    "Ip: Internet Protocol"
   ]
  },
  {
   "cell_type": "markdown",
   "metadata": {},
   "source": [
    "#### Server Side"
   ]
  },
  {
   "cell_type": "code",
   "execution_count": null,
   "metadata": {},
   "outputs": [],
   "source": [
    "import socket\n",
    "\n",
    "host='localhost'\n",
    "port = 5000\n",
    "\n",
    "#create a socket at server side using TCP/IP protocol\n",
    "s=socket.socket(socket.AF_INET,socket.SOCK_STREAM)\n",
    "#for IPV4 socket.AF_INET, for IPV6 socket.AF_INET6\n",
    "#we can also use s=socket.socket(socket.AF_INET,socket.SOCK_STREAM) to use default values\n",
    "\n",
    "#bind the socket and port\n",
    "s.bind((host,port))\n",
    "\n",
    "# allow max 1 connection to the socket\n",
    "s.listen(1)\n",
    "\n",
    "#wait till client accepts connection\n",
    "c, addr=s.accept()\n",
    "#c is connection object for the server, addr is address of client\n",
    "\n",
    "print('Connection from:',str(addr))\n",
    "\n",
    "c.send(b\"Hello there\")\n",
    "msg='See You Later'\n",
    "c.send(msg.encode())\n",
    "\n",
    "#disconnect from server\n",
    "c.close()"
   ]
  },
  {
   "cell_type": "markdown",
   "metadata": {},
   "source": [
    "#### Client Side"
   ]
  },
  {
   "cell_type": "code",
   "execution_count": null,
   "metadata": {},
   "outputs": [],
   "source": [
    "import socket\n",
    "\n",
    "#take the server name and port no.\n",
    "host='localhost'\n",
    "port=5000\n",
    "\n",
    "#create a socket at server side \n",
    "s=socket.socket(socket.AF_INET, socket.SOCK_STREAM)\n",
    "\n",
    "#bind the socket and port\n",
    "s.connect((host,port))\n",
    "\n",
    "#recieve a message from server, 1024 B at a time\n",
    "msg=s.recv(1024)\n",
    "\n",
    "#recieve message string till msg in not empty\n",
    "while msg:\n",
    "    print(\"Recieved: \",msg.decode())\n",
    "    msg=s.recv(1024)\n",
    "    \n",
    "s.close()"
   ]
  },
  {
   "cell_type": "markdown",
   "metadata": {},
   "source": [
    "### Scan the available ports"
   ]
  },
  {
   "cell_type": "code",
   "execution_count": 2,
   "metadata": {},
   "outputs": [
    {
     "name": "stdout",
     "output_type": "stream",
     "text": [
      "Your port 0 is close\n",
      "Your port 1 is close\n",
      "Your port 2 is close\n",
      "Your port 3 is close\n",
      "Your port 4 is close\n",
      "Your port 5 is close\n",
      "Your port 6 is close\n",
      "Your port 7 is close\n",
      "Your port 8 is close\n",
      "Your port 9 is close\n",
      "Your port 10 is close\n",
      "Your port 11 is close\n",
      "Your port 12 is close\n",
      "Your port 13 is close\n",
      "Your port 14 is close\n",
      "Your port 15 is close\n",
      "Your port 16 is close\n",
      "Your port 17 is close\n",
      "Your port 18 is close\n",
      "Your port 19 is close\n",
      "Your port 20 is close\n",
      "Your port 21 is close\n",
      "Your port 22 is close\n",
      "Your port 23 is close\n",
      "Your port 24 is close\n",
      "Your port 25 is close\n",
      "Your port 26 is close\n",
      "Your port 27 is close\n",
      "Your port 28 is close\n",
      "Your port 29 is close\n",
      "Your port 30 is close\n",
      "Your port 31 is close\n",
      "Your port 32 is close\n",
      "Your port 33 is close\n",
      "Your port 34 is close\n",
      "Your port 35 is close\n",
      "Your port 36 is close\n",
      "Your port 37 is close\n",
      "Your port 38 is close\n",
      "Your port 39 is close\n",
      "Your port 40 is close\n",
      "Your port 41 is close\n",
      "Your port 42 is close\n",
      "Your port 43 is close\n",
      "Your port 44 is close\n",
      "Your port 45 is close\n",
      "Your port 46 is close\n",
      "Your port 47 is close\n",
      "Your port 48 is close\n",
      "Your port 49 is close\n"
     ]
    }
   ],
   "source": [
    "import socket\n",
    "\n",
    "s=socket.socket(socket.AF_INET,socket.SOCK_STREAM)\n",
    "\n",
    "server='www.iitk.ac.in'\n",
    "\n",
    "def pscan(port):\n",
    "    try:\n",
    "        s.connect((server,port))\n",
    "        return True\n",
    "    except:\n",
    "        return False\n",
    "\n",
    "for x in range(0,50):\n",
    "    #can go upto 68000 but scanning ports takes a lot of time\n",
    "    if pscan(x):\n",
    "        print('Your port',x,'is open')\n",
    "    else:\n",
    "        print('Your port',x,'is close')"
   ]
  },
  {
   "cell_type": "code",
   "execution_count": null,
   "metadata": {},
   "outputs": [],
   "source": []
  }
 ],
 "metadata": {
  "kernelspec": {
   "display_name": "Python 3",
   "language": "python",
   "name": "python3"
  },
  "language_info": {
   "codemirror_mode": {
    "name": "ipython",
    "version": 3
   },
   "file_extension": ".py",
   "mimetype": "text/x-python",
   "name": "python",
   "nbconvert_exporter": "python",
   "pygments_lexer": "ipython3",
   "version": "3.7.6"
  }
 },
 "nbformat": 4,
 "nbformat_minor": 4
}
