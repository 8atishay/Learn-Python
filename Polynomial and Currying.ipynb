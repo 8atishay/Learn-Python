{
 "cells": [
  {
   "cell_type": "markdown",
   "metadata": {},
   "source": [
    "# Polynomial"
   ]
  },
  {
   "cell_type": "markdown",
   "metadata": {},
   "source": [
    "### Sample polynomial"
   ]
  },
  {
   "cell_type": "code",
   "execution_count": 1,
   "metadata": {},
   "outputs": [
    {
     "name": "stdout",
     "output_type": "stream",
     "text": [
      "-1 12\n",
      "0 9\n",
      "2 123\n",
      "3.4 679.1807999999999\n"
     ]
    }
   ],
   "source": [
    "def p(x):\n",
    "    return 3*x**4 + 5*x**3 + 6*x**2 + x +9\n",
    "\n",
    "for x in [-1,0,2,3.4]:\n",
    "    print(x,p(x))"
   ]
  },
  {
   "cell_type": "markdown",
   "metadata": {},
   "source": [
    "### Implementation through a function"
   ]
  },
  {
   "cell_type": "code",
   "execution_count": 7,
   "metadata": {},
   "outputs": [
    {
     "name": "stdout",
     "output_type": "stream",
     "text": [
      "[-3.   -2.88 -2.76 -2.64 -2.52 -2.4  -2.28 -2.16 -2.04 -1.92 -1.8  -1.68\n",
      " -1.56 -1.44 -1.32 -1.2  -1.08 -0.96 -0.84 -0.72 -0.6  -0.48 -0.36 -0.24\n",
      " -0.12  0.    0.12  0.24  0.36  0.48  0.6   0.72  0.84  0.96  1.08  1.2\n",
      "  1.32  1.44  1.56  1.68  1.8   1.92  2.04  2.16  2.28  2.4   2.52  2.64\n",
      "  2.76  2.88]\n",
      "[168.         142.83825408 120.90620928 101.90485248  85.55010048\n",
      "  71.5728      59.71872768  49.74859008  41.43802368  34.57759488\n",
      "  28.9728      24.44406528  20.82674688  17.97113088  15.74243328\n",
      "  14.0208      12.70130688  11.69395968  10.92369408  10.33037568\n",
      "   9.8688       9.50869248   9.23470848   9.04643328   8.95838208\n",
      "   9.           9.21566208   9.66467328  10.42126848  11.57461248\n",
      "  13.2288      15.50285568  18.53073408  22.46131968  27.45842688\n",
      "  33.7008      41.38211328  50.71097088  61.91090688  75.22038528\n",
      "  90.8928     109.19647488 130.41466368 154.84555008 182.80224768\n",
      " 214.6128     250.62018048 291.18229248 336.67196928 387.47697408]\n"
     ]
    },
    {
     "data": {
      "image/png": "[encoded data removed]",
      "text/plain": [
       "<Figure size 432x288 with 1 Axes>"
      ]
     },
     "metadata": {
      "needs_background": "light"
     },
     "output_type": "display_data"
    }
   ],
   "source": [
    "import numpy as np\n",
    "import matplotlib.pyplot as plt\n",
    "\n",
    "def p(x):\n",
    "    return 3*x**4 + 5*x**3 + 6*x**2 + x +9\n",
    "\n",
    "X=np.linspace(-3,3,50,endpoint=False)\n",
    "print(X)\n",
    "F=p(X)\n",
    "print(F)\n",
    "plt.plot(X,F)\n",
    "plt.show()"
   ]
  },
  {
   "cell_type": "markdown",
   "metadata": {},
   "source": [
    "### Implemetation through a class"
   ]
  },
  {
   "cell_type": "code",
   "execution_count": 14,
   "metadata": {},
   "outputs": [
    {
     "name": "stdout",
     "output_type": "stream",
     "text": [
      "-3     Polynomial(-9, 2, 2, 2, 5)     -766\n",
      "-2     Polynomial(-9, 2, 2, 2, 5)     -151\n",
      "-1     Polynomial(-9, 2, 2, 2, 5)     -6\n",
      "0     Polynomial(-9, 2, 2, 2, 5)     5\n",
      "1     Polynomial(-9, 2, 2, 2, 5)     2\n",
      "2     Polynomial(-9, 2, 2, 2, 5)     -111\n",
      "[-3.   -2.88 -2.76 -2.64 -2.52 -2.4  -2.28 -2.16 -2.04 -1.92 -1.8  -1.68\n",
      " -1.56 -1.44 -1.32 -1.2  -1.08 -0.96 -0.84 -0.72 -0.6  -0.48 -0.36 -0.24\n",
      " -0.12  0.    0.12  0.24  0.36  0.48  0.6   0.72  0.84  0.96  1.08  1.2\n",
      "  1.32  1.44  1.56  1.68  1.8   1.92  2.04  2.16  2.28  2.4   2.52  2.64\n",
      "  2.76  2.88]\n",
      "[-7.66000000e+02 -6.51120586e+02 -5.49584420e+02 -4.60318205e+02\n",
      " -3.82293437e+02 -3.14526400e+02 -2.56078167e+02 -2.06054602e+02\n",
      " -1.63606359e+02 -1.27928881e+02 -9.82624000e+01 -7.38919398e+01\n",
      " -5.41473126e+01 -3.84031206e+01 -2.60787558e+01 -1.66384000e+01\n",
      " -9.59102464e+00 -4.49039104e+00 -9.35050240e-01  1.43165696e+00\n",
      "  2.92160000e+00  3.80185856e+00  4.29472256e+00  4.57769216e+00\n",
      "  4.78347776e+00  5.00000000e+00  5.27038976e+00  5.59298816e+00\n",
      "  5.92134656e+00  6.16422656e+00  6.18560000e+00  5.80464896e+00\n",
      "  4.79576576e+00  2.88855296e+00 -2.32176640e-01 -4.92640000e+00\n",
      " -1.15988838e+01 -2.06991846e+01 -3.27216486e+01 -4.82054118e+01\n",
      " -6.77344000e+01 -9.19373286e+01 -1.21487703e+02 -1.57103818e+02\n",
      " -1.99548759e+02 -2.49630400e+02 -3.08201405e+02 -3.76159229e+02\n",
      " -4.54446116e+02 -5.44049098e+02]\n"
     ]
    },
    {
     "data": {
      "image/png": "[encoded data removed]",
      "text/plain": [
       "<Figure size 432x288 with 1 Axes>"
      ]
     },
     "metadata": {
      "needs_background": "light"
     },
     "output_type": "display_data"
    }
   ],
   "source": [
    "import numpy as np\n",
    "import matplotlib.pyplot as plt\n",
    "\n",
    "class Polynomial:\n",
    "    def __init__(self,*coefficients):\n",
    "        self.coefficients=coefficients[::-1] #tuple is also turned into list\n",
    "#[::-1] flips the coefficients\n",
    "    def __repr__(self):\n",
    "        return \"Polynomial\" + str(self.coefficients[::-1])\n",
    "    \n",
    "    def __call__(self,x):\n",
    "        res=0\n",
    "        for index,coeff in enumerate(self.coefficients):\n",
    "            res += coeff *x**index\n",
    "        return res\n",
    "    \n",
    "p=Polynomial(-9,2,2,2,5)\n",
    "for x in range(-3,3):\n",
    "    print(x,\"   \",p.__repr__(),\"   \",p(x))\n",
    "    \n",
    "X=np.linspace(-3,3,50,endpoint=False)\n",
    "print(X)\n",
    "F=p(X)\n",
    "print(F)\n",
    "plt.plot(X,F)\n",
    "plt.show()"
   ]
  },
  {
   "cell_type": "markdown",
   "metadata": {},
   "source": [
    "#  "
   ]
  },
  {
   "cell_type": "markdown",
   "metadata": {},
   "source": [
    "# Currying:\n",
    "Breaking down the evaluation of a function that takes multiple argument into evaluating a sequence of single-argument functions."
   ]
  },
  {
   "cell_type": "code",
   "execution_count": 1,
   "metadata": {},
   "outputs": [
    {
     "name": "stdout",
     "output_type": "stream",
     "text": [
      "weight (kg) 56\n",
      "height (m) 1.7\n",
      "Normal (healthy weight)\n",
      "weight (kg) 0\n",
      "height (m) 0\n"
     ]
    }
   ],
   "source": [
    "def compose(b,c):\n",
    "    def a(x,y):\n",
    "        return b(c(x,y))\n",
    "    return a\n",
    "\n",
    "def BMI(weight, height):\n",
    "    return weight / height**2\n",
    "\n",
    "def evaluate_BMI(bmi):\n",
    "    if bmi < 15:\n",
    "        return \"Very severely underweight\"\n",
    "    elif bmi < 16:\n",
    "        return \"Severely underweight\"\n",
    "    elif bmi < 18.5:\n",
    "        return \"Underweight\"\n",
    "    elif bmi < 25:\n",
    "        return \"Normal (healthy weight)\"\n",
    "    elif bmi < 30:\n",
    "        return \"Overweight\"\n",
    "    elif bmi < 35:\n",
    "        return \"Obese Class I (Moderately obese)\"\n",
    "    elif bmi < 40:\n",
    "        return \"Obese Class II (Severely obese)\"\n",
    "    else:\n",
    "        return \"Obese Class III (Very severely obese)\"\n",
    "\n",
    "\n",
    "f = compose(evaluate_BMI, BMI)\n",
    "\n",
    "weight = 1\n",
    "weight = float(input(\"weight (kg) \"))\n",
    "height = float(input(\"height (m) \"))\n",
    "while weight > 0:\n",
    "    print(f(weight, height))\n",
    "    weight = float(input(\"weight (kg) \"))\n",
    "    height = float(input(\"height (m) \"))\n",
    "    "
   ]
  }
 ],
 "metadata": {
  "kernelspec": {
   "display_name": "Python 3",
   "language": "python",
   "name": "python3"
  },
  "language_info": {
   "codemirror_mode": {
    "name": "ipython",
    "version": 3
   },
   "file_extension": ".py",
   "mimetype": "text/x-python",
   "name": "python",
   "nbconvert_exporter": "python",
   "pygments_lexer": "ipython3",
   "version": "3.7.6"
  }
 },
 "nbformat": 4,
 "nbformat_minor": 4
}
